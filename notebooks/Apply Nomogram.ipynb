{
 "cells": [
  {
   "cell_type": "code",
   "execution_count": 2,
   "metadata": {},
   "outputs": [
    {
     "ename": "ModuleNotFoundError",
     "evalue": "No module named 'pyautogui'",
     "output_type": "error",
     "traceback": [
      "\u001b[0;31m---------------------------------------------------------------------------\u001b[0m",
      "\u001b[0;31mModuleNotFoundError\u001b[0m                       Traceback (most recent call last)",
      "\u001b[1;32m/Users/yifu/PycharmProjects/Radiotherapy-Prediction/notebooks/Apply Nomogram.ipynb Cell 1'\u001b[0m in \u001b[0;36m<cell line: 4>\u001b[0;34m()\u001b[0m\n\u001b[1;32m      <a href='vscode-notebook-cell:/Users/yifu/PycharmProjects/Radiotherapy-Prediction/notebooks/Apply%20Nomogram.ipynb#ch0000000?line=0'>1</a>\u001b[0m \u001b[39m# This notebook uses a nomogram available on the web to create an additional feature for patients\u001b[39;00m\n\u001b[1;32m      <a href='vscode-notebook-cell:/Users/yifu/PycharmProjects/Radiotherapy-Prediction/notebooks/Apply%20Nomogram.ipynb#ch0000000?line=1'>2</a>\u001b[0m \u001b[39m# The nomogram is available at https://nomograms.mskcc.org/Breast/BreastSLNodeMetastasisPage.aspx\u001b[39;00m\n\u001b[1;32m      <a href='vscode-notebook-cell:/Users/yifu/PycharmProjects/Radiotherapy-Prediction/notebooks/Apply%20Nomogram.ipynb#ch0000000?line=2'>3</a>\u001b[0m \u001b[39m# The filling and submitting of the webform is automated using the 'pyautogui' module\u001b[39;00m\n\u001b[0;32m----> <a href='vscode-notebook-cell:/Users/yifu/PycharmProjects/Radiotherapy-Prediction/notebooks/Apply%20Nomogram.ipynb#ch0000000?line=3'>4</a>\u001b[0m \u001b[39mfrom\u001b[39;00m \u001b[39mpyautogui\u001b[39;00m \u001b[39mimport\u001b[39;00m \u001b[39m*\u001b[39m \n\u001b[1;32m      <a href='vscode-notebook-cell:/Users/yifu/PycharmProjects/Radiotherapy-Prediction/notebooks/Apply%20Nomogram.ipynb#ch0000000?line=4'>5</a>\u001b[0m \u001b[39mimport\u001b[39;00m \u001b[39mtime\u001b[39;00m\n\u001b[1;32m      <a href='vscode-notebook-cell:/Users/yifu/PycharmProjects/Radiotherapy-Prediction/notebooks/Apply%20Nomogram.ipynb#ch0000000?line=5'>6</a>\u001b[0m \u001b[39mimport\u001b[39;00m \u001b[39mos\u001b[39;00m\n",
      "\u001b[0;31mModuleNotFoundError\u001b[0m: No module named 'pyautogui'"
     ]
    }
   ],
   "source": [
    "# This notebook uses a nomogram available on the web to create an additional feature for patients\n",
    "# The nomogram is available at https://nomograms.mskcc.org/Breast/BreastSLNodeMetastasisPage.aspx\n",
    "# The filling and submitting of the webform is automated using the 'pyautogui' module\n",
    "from pyautogui import * \n",
    "import time\n",
    "import os\n",
    "import pandas as pd\n",
    "import numpy as np\n",
    "import matplotlib.pyplot as plt\n",
    "import seaborn as sns\n",
    "\n",
    "pd.set_option('display.max_columns', None)\n",
    "pd.set_option('display.max_rows', None)\n",
    "pd.set_option('display.expand_frame_repr', True)\n",
    "\n",
    "nomogram_url = \"https://nomograms.mskcc.org/Breast/BreastSLNodeMetastasisPage.aspx\"\n",
    "raw_data_path = \"data/input/AllTranTrainVal.csv\""
   ]
  },
  {
   "cell_type": "code",
   "execution_count": null,
   "metadata": {},
   "outputs": [
    {
     "ename": "",
     "evalue": "",
     "output_type": "error",
     "traceback": [
      "\u001b[1;31mThe kernel failed to start as 'filefind' could not be imported from '/Library/Frameworks/Python.framework/Versions/3.9/lib/python3.9/site-packages/traitlets/utils/__init__.py'.\n",
      "Click <a href='https://aka.ms/kernelFailuresModuleImportErrFromFile'>here</a> for more info."
     ]
    }
   ],
   "source": [
    "# Load raw data\n",
    "df = pd.read_csv(raw_data_path)\n",
    "df.head()"
   ]
  }
 ],
 "metadata": {
  "kernelspec": {
   "display_name": "Python 3.9.12 ('base')",
   "language": "python",
   "name": "python3"
  },
  "language_info": {
   "codemirror_mode": {
    "name": "ipython",
    "version": 3
   },
   "file_extension": ".py",
   "mimetype": "text/x-python",
   "name": "python",
   "nbconvert_exporter": "python",
   "pygments_lexer": "ipython3",
   "version": "3.9.12"
  },
  "orig_nbformat": 4,
  "vscode": {
   "interpreter": {
    "hash": "49e64fde10219d3ab96bfbc338b28578e123987725ce81113aeea3e8142c8584"
   }
  }
 },
 "nbformat": 4,
 "nbformat_minor": 2
}
