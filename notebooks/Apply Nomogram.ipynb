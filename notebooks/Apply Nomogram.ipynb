{
 "cells": [
  {
   "cell_type": "code",
   "execution_count": null,
   "metadata": {},
   "outputs": [],
   "source": [
    "# This notebook uses a nomogram available on the web to create an additional feature for patients\n",
    "# The nomogram is available at https://nomograms.mskcc.org/Breast/BreastSLNodeMetastasisPage.aspx\n",
    "# The filling and submitting of the webform is automated using the 'pyautogui' module\n",
    "from pyautogui import * \n",
    "import time\n",
    "import os\n",
    "\n",
    "nomogram_url = \"https://nomograms.mskcc.org/Breast/BreastSLNodeMetastasisPage.aspx\"\n",
    "raw_data_path = "
   ]
  }
 ],
 "metadata": {
  "language_info": {
   "name": "python"
  },
  "orig_nbformat": 4
 },
 "nbformat": 4,
 "nbformat_minor": 2
}
