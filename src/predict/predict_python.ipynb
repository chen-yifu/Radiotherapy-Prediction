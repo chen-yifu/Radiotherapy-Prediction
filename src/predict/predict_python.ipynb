{
 "cells": [
  {
   "cell_type": "markdown",
   "metadata": {},
   "source": [
    "### Use Machine Learning to predict the probability of needing Post-Mastectom Radiotherapy\n",
    "Author: Yifu (Charles) Chen\n",
    "\n",
    "A notebook in Python Language"
   ]
  },
  {
   "cell_type": "code",
   "execution_count": null,
   "metadata": {},
   "outputs": [],
   "source": [
    "### Import modules ###\n",
    "import os\n",
    "import glob\n",
    "import pandas as pd\n",
    "import numpy as np"
   ]
  },
  {
   "cell_type": "code",
   "execution_count": null,
   "metadata": {},
   "outputs": [],
   "source": [
    "# Directory of DataFrames\n",
    "dir_to_df = \"/Users/yifu/PycharmProjects/Radiotherapy-Prediction/data/experiments/May18 Datasets for Experiments Table Debugged\"\n",
    "# Assume all files in directory are CSV DataFrame files\n",
    "paths_to_df = glob.glob(os.path.join(dir_to_df, \"*.csv\"))\n",
    "\n",
    "# Read each DataFrame file\n"
   ]
  }
 ],
 "metadata": {
  "interpreter": {
   "hash": "aee8b7b246df8f9039afb4144a1f6fd8d2ca17a180786b69acc140d282b71a49"
  },
  "kernelspec": {
   "display_name": "Python 3.9.1 64-bit",
   "language": "python",
   "name": "python3"
  },
  "language_info": {
   "name": "python",
   "version": "3.9.1"
  },
  "orig_nbformat": 4
 },
 "nbformat": 4,
 "nbformat_minor": 2
}
