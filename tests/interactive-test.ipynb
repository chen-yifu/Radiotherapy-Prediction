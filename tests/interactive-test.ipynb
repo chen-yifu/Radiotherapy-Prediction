{
 "cells": [
  {
   "cell_type": "code",
   "execution_count": 144,
   "metadata": {},
   "outputs": [
    {
     "data": {
      "text/plain": [
       "<module 'objects.SubsetColumns' from '/Users/yifu/PycharmProjects/Radiotherapy-Prediction/objects/SubsetColumns.py'>"
      ]
     },
     "execution_count": 144,
     "metadata": {},
     "output_type": "execute_result"
    }
   ],
   "source": [
    "import time\n",
    "import pandas as pd\n",
    "import numpy as np\n",
    "import matplotlib.pyplot as plt\n",
    "import seaborn as sns\n",
    "import pyperclip\n",
    "import os\n",
    "import re\n",
    "import sys\n",
    "import config\n",
    "import importlib\n",
    "import itertools\n",
    "from datetime import datetime\n",
    "sys.path.insert(1, '/Users/yifu/PycharmProjects/Radiotherapy-Prediction')\n",
    "from utils.printers import print_with_color, bcolors\n",
    "import objects.VarReader\n",
    "import objects.Evaluator\n",
    "import objects.Initializer\n",
    "import objects.Data\n",
    "import objects.DataProcessor\n",
    "import objects.Predictor\n",
    "import objects.FeatureSelector\n",
    "import objects.InclusionCriteria\n",
    "import objects.Experiment\n",
    "import objects.SubsetColumns\n",
    "\n",
    "importlib.reload(objects.VarReader)\n",
    "importlib.reload(objects.Evaluator)\n",
    "importlib.reload(objects.Initializer)\n",
    "importlib.reload(objects.Data)\n",
    "importlib.reload(objects.DataProcessor)\n",
    "importlib.reload(objects.Predictor)\n",
    "importlib.reload(objects.FeatureSelector)\n",
    "importlib.reload(objects.InclusionCriteria)\n",
    "importlib.reload(objects.Experiment) \n",
    "importlib.reload(objects.SubsetColumns)"
   ]
  },
  {
   "cell_type": "code",
   "execution_count": 145,
   "metadata": {},
   "outputs": [
    {
     "name": "stdout",
     "output_type": "stream",
     "text": [
      "Created results directory: /Users/yifu/PycharmProjects/Radiotherapy-Prediction/data/output/test-results/2022-11-10_144017\n"
     ]
    }
   ],
   "source": [
    "processed_df_path = \"/Users/yifu/PycharmProjects/Radiotherapy-Prediction/data/input/input-data-with-nomogram-probs/nomogram_results_2022-09-08.csv\"\n",
    "metadata_path = \"/Users/yifu/PycharmProjects/Radiotherapy-Prediction/data/input/metadata/Metadata.xlsx\"\n",
    "\n",
    "RTx_EN_nonzero_12cols = [\n",
    "    'PRE_his_subtype___dcis', 'PRE_susp_LN_prsnt_composite',\n",
    "    'PRE_her_status', 'PRE_dximg___ultrasound',\n",
    "    'PRE_sln_met_nomogram_prob', 'PRE_pre_op_biopsy',\n",
    "    'PRE_surg_indicat_prim___primary_tx',\n",
    "    'PRE_int_mammary_lymphade_pet', 'PRE_his_subtype___idc',\n",
    "    'PRE_metastatic_carcinoma_on_ax', 'PRE_dximg___mammography',\n",
    "    'PRE_lymphovascular_invasion0'\n",
    "]\n",
    "\n",
    "RTx_LLasso_nonzero_8cols = [\n",
    "    'PRE_his_subtype___dcis', 'PRE_susp_LN_prsnt_composite',\n",
    "    'PRE_sln_met_nomogram_prob', 'PRE_dximg___ultrasound',\n",
    "    'PRE_pre_op_biopsy', 'PRE_surg_indicat_prim___primary_tx',\n",
    "    'PRE_her_status', 'PRE_his_subtype___idc'\n",
    "]\n",
    "\n",
    "results_base_dir = \"/Users/yifu/PycharmProjects/Radiotherapy-Prediction/data/output/test-results\"\n",
    "results_dir = os.path.join(results_base_dir, datetime.now().strftime(\"%Y-%m-%d_%H%M%S\"))\n",
    "if results_dir not in os.listdir(results_base_dir):\n",
    "    os.mkdir(results_dir)\n",
    "    print(f\"Created results directory: {results_dir}\")"
   ]
  },
  {
   "cell_type": "code",
   "execution_count": 146,
   "metadata": {},
   "outputs": [],
   "source": [
    "Initializer = objects.Initializer.Initializer(\n",
    "    metadata_path,\n",
    "    raw_df_path=None,\n",
    "    results_dir=results_dir,\n",
    "    processed_df_path=processed_df_path,\n",
    "    DPI=80,\n",
    "    models_to_show=[\"elastic_net\", \"logistic_reg\", \"logistic_lasso\", \"random_forest\"]\n",
    ")\n",
    "\n",
    "\n",
    "Data = objects.Data.Data()\n",
    "VarReader = objects.VarReader.VarReader()\n",
    "Evaluator = objects.Evaluator.Evaluator()\n",
    "DataProcessor = objects.DataProcessor.DataProcessor()\n",
    "Predictor = objects.Predictor.Predictor()"
   ]
  },
  {
   "cell_type": "code",
   "execution_count": 147,
   "metadata": {},
   "outputs": [
    {
     "name": "stdout",
     "output_type": "stream",
     "text": [
      "Shape of EN df: (786, 13)\n",
      "Shape of Lasso df: (786, 9)\n",
      "Shape of All df: (786, 132)\n"
     ]
    }
   ],
   "source": [
    "target_col = \"POS_did_the_patient_receive_pm\"\n",
    "\n",
    "EN_df = pd.read_csv(processed_df_path)[RTx_EN_nonzero_12cols + [target_col]]\n",
    "Lasso_df = pd.read_csv(processed_df_path)[RTx_LLasso_nonzero_8cols + [target_col]]\n",
    "All_df = pd.read_csv(processed_df_path)\n",
    "\n",
    "EN_df = EN_df.apply(pd.to_numeric, errors='coerce')\n",
    "Lasso_df = Lasso_df.apply(pd.to_numeric, errors='coerce')\n",
    "All_df = All_df.apply(pd.to_numeric, errors='coerce')\n",
    "All_df = All_df.dropna(axis=1, how=\"all\")\n",
    "EN_df = EN_df.dropna(subset=[target_col])\n",
    "Lasso_df = Lasso_df.dropna(subset=[target_col])\n",
    "All_df = All_df.dropna(subset=[target_col])\n",
    "\n",
    "for df, name in zip([EN_df, Lasso_df, All_df], [\"EN\", \"Lasso\", \"All\"]):\n",
    "    print(f\"Shape of {name} df:\", df.shape)"
   ]
  },
  {
   "cell_type": "code",
   "execution_count": 148,
   "metadata": {},
   "outputs": [],
   "source": [
    "# Impute missing values using sklearn's IterativeImputer\n",
    "from sklearn.experimental import enable_iterative_imputer\n",
    "from sklearn.impute import IterativeImputer\n",
    "from sklearn.impute import KNNImputer\n",
    "\n",
    "def preprocess_values(df):\n",
    "    # Do not use target column as a feature\n",
    "    X = df.drop(columns=[target_col])\n",
    "    y = df[target_col]\n",
    "    # Standardize all columns except target column to have mean 0 and std 1\n",
    "    # X = X.dropna(axis=1, how=\"all\")\n",
    "    imputer = KNNImputer(n_neighbors=5)\n",
    "    X_imputed = imputer.fit_transform(X)\n",
    "    df_imputed = pd.DataFrame(X_imputed, columns=X.columns)\n",
    "    df_imputed[target_col] = y\n",
    "    return df_imputed\n",
    "\n",
    "EN_df_imputed = preprocess_values(EN_df)\n",
    "Lasso_df_imputed = preprocess_values(Lasso_df)\n",
    "All_df_imputed = preprocess_values(All_df)\n",
    "# Drop rows with NaN in target column\n",
    "EN_df_imputed = EN_df_imputed.dropna(subset=[target_col])\n",
    "Lasso_df_imputed = Lasso_df_imputed.dropna(subset=[target_col])\n",
    "All_df_imputed = All_df_imputed.dropna(subset=[target_col])"
   ]
  },
  {
   "cell_type": "code",
   "execution_count": 149,
   "metadata": {},
   "outputs": [
    {
     "name": "stdout",
     "output_type": "stream",
     "text": [
      "Shape of X: (772, 131)\n",
      "Shape of y: (772,)\n",
      "Accuracy: 0.5077720207253886\n",
      "Precision: 0.37888198757763975\n",
      "Recall: 0.40397350993377484\n",
      "F1: 0.391025641025641\n",
      "ROC AUC: 0.48922079752007896\n"
     ]
    },
    {
     "name": "stderr",
     "output_type": "stream",
     "text": [
      "/Users/yifu/opt/anaconda3/lib/python3.9/site-packages/sklearn/linear_model/_logistic.py:444: ConvergenceWarning: lbfgs failed to converge (status=1):\n",
      "STOP: TOTAL NO. of ITERATIONS REACHED LIMIT.\n",
      "\n",
      "Increase the number of iterations (max_iter) or scale the data as shown in:\n",
      "    https://scikit-learn.org/stable/modules/preprocessing.html\n",
      "Please also refer to the documentation for alternative solver options:\n",
      "    https://scikit-learn.org/stable/modules/linear_model.html#logistic-regression\n",
      "  n_iter_i = _check_optimize_result(\n"
     ]
    }
   ],
   "source": [
    "from sklearn.ensemble import RandomForestClassifier\n",
    "from sklearn.model_selection import train_test_split\n",
    "from sklearn.metrics import accuracy_score, precision_score, recall_score, f1_score, roc_auc_score\n",
    "\n",
    "df = All_df\n",
    "\n",
    "# Impute missing values in df\n",
    "imputer = KNNImputer(n_neighbors=5)\n",
    "X = df.drop(columns=[target_col])\n",
    "X_imputed = imputer.fit_transform(X)\n",
    "y = df[target_col]\n",
    "df = pd.DataFrame(X_imputed, columns=X.columns)\n",
    "df[target_col] = y\n",
    "# Drop rows with NaN in target\n",
    "df = df.dropna(subset=[target_col])\n",
    "X = df.drop(columns=[target_col])\n",
    "y = df[target_col]\n",
    "print(\"Shape of X:\", X.shape)\n",
    "print(\"Shape of y:\", y.shape)\n",
    "# Predict target column using random forest classifier\n",
    "X_train, X_test, y_train, y_test = train_test_split(X, y, test_size=0.1, random_state=42)\n",
    "from sklearn.linear_model import LogisticRegression\n",
    "model = LogisticRegression(max_iter=10000)\n",
    "model.fit(X_train, y_train)\n",
    "y_pred = model.predict(X_test)\n",
    "print(\"Accuracy:\", accuracy_score(y_test, y_pred))\n",
    "print(\"Precision:\", precision_score(y_test, y_pred))\n",
    "print(\"Recall:\", recall_score(y_test, y_pred))\n",
    "print(\"F1:\", f1_score(y_test, y_pred))\n",
    "print(\"ROC AUC:\", roc_auc_score(y_test, y_pred))"
   ]
  },
  {
   "cell_type": "code",
   "execution_count": 150,
   "metadata": {},
   "outputs": [
    {
     "name": "stdout",
     "output_type": "stream",
     "text": [
      "DF: EN | Model: LR | AUC: 0.5\n",
      "DF: EN | Model: RF | AUC: 0.4995833333333333\n",
      "DF: Lasso | Model: LR | AUC: 0.5\n",
      "DF: Lasso | Model: RF | AUC: 0.49249999999999994\n"
     ]
    }
   ],
   "source": [
    "# Use Random Forest to predict target column\n",
    "from sklearn.ensemble import RandomForestClassifier\n",
    "from sklearn.model_selection import train_test_split\n",
    "from sklearn.metrics import roc_auc_score, confusion_matrix\n",
    "from sklearn.linear_model import ElasticNet\n",
    "from sklearn.linear_model import LogisticRegressionCV\n",
    "from sklearn.exceptions import ConvergenceWarning\n",
    "import warnings \n",
    "\n",
    "def evaluate_model(y_pred, y_test):\n",
    "    auc = roc_auc_score(y_test, y_pred)\n",
    "    # cm = confusion_matrix(y_test, y_pred)\n",
    "    return auc\n",
    "\n",
    "with warnings.catch_warnings():\n",
    "    LR = LogisticRegressionCV(cv=5, max_iter=10000, n_jobs=-1, solver=\"saga\", random_state=1)\n",
    "    RF = RandomForestClassifier(n_estimators=1000, max_depth=5, random_state=1)\n",
    "\n",
    "    for df, df_name in zip([EN_df_imputed, Lasso_df_imputed, All_df_imputed], [\"EN\", \"Lasso\", \"All\"]):\n",
    "        for model, name in zip([LR, RF], [\"LR\", \"RF\"]):\n",
    "            X = df.drop(columns=[target_col])\n",
    "            y = df[target_col]\n",
    "            X_train, X_test, y_train, y_test = train_test_split(X, y, test_size=0.2, random_state=1)\n",
    "            model.fit(X_train, y_train)\n",
    "            y_pred = model.predict(X_test)\n",
    "            auc = evaluate_model(y_pred, y_test)\n",
    "            print(f\"DF: {df_name} | Model: {name} | AUC: {auc}\")"
   ]
  }
 ],
 "metadata": {
  "kernelspec": {
   "display_name": "Python 3.9.12 ('base')",
   "language": "python",
   "name": "python3"
  },
  "language_info": {
   "codemirror_mode": {
    "name": "ipython",
    "version": 3
   },
   "file_extension": ".py",
   "mimetype": "text/x-python",
   "name": "python",
   "nbconvert_exporter": "python",
   "pygments_lexer": "ipython3",
   "version": "3.9.12"
  },
  "orig_nbformat": 4,
  "vscode": {
   "interpreter": {
    "hash": "49e64fde10219d3ab96bfbc338b28578e123987725ce81113aeea3e8142c8584"
   }
  }
 },
 "nbformat": 4,
 "nbformat_minor": 2
}
